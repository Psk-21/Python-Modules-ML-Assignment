{
  "nbformat": 4,
  "nbformat_minor": 0,
  "metadata": {
    "colab": {
      "provenance": []
    },
    "kernelspec": {
      "name": "python3",
      "display_name": "Python 3"
    },
    "language_info": {
      "name": "python"
    }
  },
  "cells": [
    {
      "cell_type": "code",
      "execution_count": 1,
      "metadata": {
        "colab": {
          "base_uri": "https://localhost:8080/"
        },
        "id": "a4u2JSff64rs",
        "outputId": "e19c31af-db36-49e9-dcd4-c4a941dbb971"
      },
      "outputs": [
        {
          "output_type": "stream",
          "name": "stdout",
          "text": [
            "Passed\n"
          ]
        }
      ],
      "source": [
        "import numpy as np\n",
        "# Create a 2D Numpy array of size 1x3 with elements of your choice\n",
        "arr1= np.array([[3,5,7]])\n",
        "\n",
        "# Create a Numpy array of length 50 with zeroes as its elements\n",
        "arr2= np.zeros(50)\n",
        "\n",
        "#Create a Numpy array of length 3x2 with elements of your choice\n",
        "arr3= np.arange(6).reshape(3,2)\n",
        "\n",
        "arr4= np.dot(arr1,arr3)\n",
        "\n",
        "arr2[4]=7\n",
        "\n",
        "#Change 5th element of arr2 to a different number\n",
        "\n",
        "if np.shape(arr4)==(1,2) and arr2[4]!=0:\n",
        "  print(\"Passed\")\n",
        "else:\n",
        "  print(\"Fail\")"
      ]
    },
    {
      "cell_type": "code",
      "source": [
        "import numpy as np\n",
        "a = np.array([[1,0,0],[0,1,0],[0,0,1]])\n",
        "b = 9*a+1\n",
        "print(b)\n",
        "np.dot(a,b)\n",
        "\n",
        "#Task: Perform the dot product of I and 9I+1 using numpy, here I is referred to as an 3x3 Identity matrix.\n"
      ],
      "metadata": {
        "colab": {
          "base_uri": "https://localhost:8080/"
        },
        "id": "Jm3E4Tjy68Yr",
        "outputId": "81f7f2c3-376b-43f2-a853-b52c8093eeef"
      },
      "execution_count": 2,
      "outputs": [
        {
          "output_type": "stream",
          "name": "stdout",
          "text": [
            "[[10  1  1]\n",
            " [ 1 10  1]\n",
            " [ 1  1 10]]\n"
          ]
        },
        {
          "output_type": "execute_result",
          "data": {
            "text/plain": [
              "array([[10,  1,  1],\n",
              "       [ 1, 10,  1],\n",
              "       [ 1,  1, 10]])"
            ]
          },
          "metadata": {},
          "execution_count": 2
        }
      ]
    },
    {
      "cell_type": "code",
      "source": [
        "import pandas as pd\n",
        "\n",
        "## Create a DataFrame from a dictionary\n",
        "data = {\n",
        "    'Name': ['Ramesh', 'Mahesh', 'Suresh'],\n",
        "    'Age': [25, 30, 35],\n",
        "    'City': ['Bangalore', 'Mumbai', 'Delhi']\n",
        "}\n",
        "df= pd.DataFrame(data)\n",
        "\n",
        "\n",
        "#Display the first 2 rows of the data frame\n",
        "print(df[0:2])\n",
        "\n",
        "\n",
        "#Print the age column\n",
        "print(df['Age'])\n",
        "\n",
        "\n",
        "#Filter rows where age is greater than 26\n",
        "age_filtered= df[df['Age']>26]\n",
        "print(age_filtered)\n",
        "\n",
        "\n",
        "#Add a new column 'Country' with the value 'India' for all rows\n",
        "df['Country']='India'\n",
        "print(df)\n",
        "\n",
        "data1 = {\n",
        "    'Name': ['Ramesh', 'Mahesh', 'Suresh'],\n",
        "    'Age': [25, None, 35],\n",
        "    'City': ['Bangalore', 'Mumbai', 'Delhi']\n",
        "}\n",
        "\n",
        "df2= pd.DataFrame(data1)\n",
        "\n",
        "# Fill missing values in the 'Age' column with the mean age\n",
        "mean_age= df['Age'].mean()\n",
        "df['Age'].fillna(mean_age,inplace=True)\n",
        "print(df)\n"
      ],
      "metadata": {
        "colab": {
          "base_uri": "https://localhost:8080/"
        },
        "id": "ZhfQoQoY7R-F",
        "outputId": "7c914519-a020-47d8-8acd-524c6f3c6213"
      },
      "execution_count": 3,
      "outputs": [
        {
          "output_type": "stream",
          "name": "stdout",
          "text": [
            "     Name  Age       City\n",
            "0  Ramesh   25  Bangalore\n",
            "1  Mahesh   30     Mumbai\n",
            "0    25\n",
            "1    30\n",
            "2    35\n",
            "Name: Age, dtype: int64\n",
            "     Name  Age    City\n",
            "1  Mahesh   30  Mumbai\n",
            "2  Suresh   35   Delhi\n",
            "     Name  Age       City Country\n",
            "0  Ramesh   25  Bangalore   India\n",
            "1  Mahesh   30     Mumbai   India\n",
            "2  Suresh   35      Delhi   India\n",
            "     Name  Age       City Country\n",
            "0  Ramesh   25  Bangalore   India\n",
            "1  Mahesh   30     Mumbai   India\n",
            "2  Suresh   35      Delhi   India\n"
          ]
        }
      ]
    },
    {
      "cell_type": "code",
      "source": [
        "import matplotlib.pyplot as plt\n",
        "import numpy as np\n",
        "\n",
        "\n",
        "\n",
        "xpoints=np.array([1,2,3,4])\n",
        "ypoints=np.array([2,4,6,8])\n",
        "\n",
        "#Plot these points without drawing a line\n",
        "plt.scatter(xpoints,ypoints)\n",
        "\n",
        "#Plotting with marker: Plot these points with a marker(Star marker)\n",
        "plt.scatter(xpoints,ypoints,marker='*')\n",
        "\n",
        "#Using fmt format, add circular marker,red color and Dashed line\n",
        "plt.plot(xpoints,ypoints,'ro--')\n",
        "\n",
        "#Add xlabel,ylabel and title for the plot.\n",
        "plt.xlabel('X-axis')\n",
        "plt.ylabel('Y-axis')\n",
        "plt.title('Normal Graph')\n",
        "\n",
        "#Create a scatter plot for xpoints and ypoints\n",
        "plt.scatter(xpoints,ypoints)\n",
        "\n",
        "#Set color to the scatter plot. Blue,Green,Red and yellow color for each point respectively\n",
        "colors=['red','green','blue','yellow']\n",
        "plt.scatter(xpoints,ypoints,color=colors)\n",
        "plt.show()"
      ],
      "metadata": {
        "colab": {
          "base_uri": "https://localhost:8080/",
          "height": 472
        },
        "id": "ckRjeIZM7k2h",
        "outputId": "f5ef9b82-47b3-4fdb-815b-d1a0a6637fef"
      },
      "execution_count": 4,
      "outputs": [
        {
          "output_type": "display_data",
          "data": {
            "text/plain": [
              "<Figure size 640x480 with 1 Axes>"
            ],
            "image/png": "[encoded data removed]"
          },
          "metadata": {}
        }
      ]
    },
    {
      "cell_type": "code",
      "source": [
        "import random\n",
        "import numpy as np\n",
        "\n",
        "#Set the seed of random to 20\n",
        "\n",
        "np.random.seed(20)\n",
        "\n",
        "arr1=np.array([1,24,31,45,73,81,94,25])\n",
        "\n",
        "#Using the random module pick 4 different random numbers from arr1 and return their sum.\n",
        "\n",
        "random_nums= random.sample(arr1.tolist(),4)\n",
        "sum_rand_nums= sum(random_nums)\n",
        "print(sum_rand_nums)"
      ],
      "metadata": {
        "colab": {
          "base_uri": "https://localhost:8080/"
        },
        "id": "0bMGM8s17rAC",
        "outputId": "827d88bf-ca2b-4055-dd1a-dc9b95dc8254"
      },
      "execution_count": 5,
      "outputs": [
        {
          "output_type": "stream",
          "name": "stdout",
          "text": [
            "251\n"
          ]
        }
      ]
    }
  ]
}